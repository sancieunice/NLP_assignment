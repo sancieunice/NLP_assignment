{
  "nbformat": 4,
  "nbformat_minor": 0,
  "metadata": {
    "colab": {
      "provenance": [],
      "authorship_tag": "ABX9TyMCTz8rwtRBfjUHK4BQHZoF"
    },
    "kernelspec": {
      "name": "python3",
      "display_name": "Python 3"
    },
    "language_info": {
      "name": "python"
    }
  },
  "cells": [
    {
      "cell_type": "code",
      "source": [
        "import pandas as pd\n",
        "import nltk\n",
        "from nltk.corpus import stopwords\n",
        "from nltk.tokenize import word_tokenize\n",
        "from nltk.stem import PorterStemmer, WordNetLemmatizer\n",
        "import re\n",
        "from sklearn.feature_extraction.text import TfidfVectorizer\n",
        "import matplotlib.pyplot as plt\n",
        "import seaborn as sns\n"
      ],
      "metadata": {
        "id": "5KaGvImhog0u"
      },
      "execution_count": 1,
      "outputs": []
    },
    {
      "cell_type": "code",
      "source": [
        "# Load datasets\n",
        "fake_file_path = '/content/Fake.csv'\n",
        "true_file_path = '/content/True.csv'\n",
        "\n",
        "fake_df = pd.read_csv(fake_file_path)\n",
        "true_df = pd.read_csv(true_file_path)\n",
        "\n",
        "# Add label columns\n",
        "fake_df['label'] = 'fake'\n",
        "true_df['label'] = 'true'\n",
        "\n",
        "# Combine datasets\n",
        "combined_df = pd.concat([fake_df, true_df], ignore_index=True)\n",
        "\n",
        "# Data analysis\n",
        "print(\"Shape of the dataset:\", combined_df.shape)\n",
        "print(\"First few rows:\")\n",
        "print(combined_df.head())\n",
        "print(\"Last few rows:\")\n",
        "print(combined_df.tail())\n",
        "print(\"Value counts for labels:\")\n",
        "print(combined_df['label'].value_counts())\n",
        "\n",
        "# Plot distribution of labels\n",
        "sns.countplot(x='label', data=combined_df)\n",
        "plt.title('Distribution of Fake and True News')\n",
        "plt.show()\n",
        "\n",
        "# Initialize NLTK components\n",
        "nltk.download('punkt')\n",
        "nltk.download('stopwords')\n",
        "nltk.download('wordnet')\n",
        "\n",
        "stemmer = PorterStemmer()\n",
        "lemmatizer = WordNetLemmatizer()\n",
        "\n",
        "def preprocess_text(text):\n",
        "    text = text.lower()  # Lowercase text\n",
        "    text = re.sub(r'[^a-z\\s]', '', text)  # Remove non-alphabetic characters\n",
        "    tokens = word_tokenize(text)  # Tokenize text\n",
        "    tokens = [word for word in tokens if word not in stopwords.words('english')]  # Remove stopwords\n",
        "    tokens = [stemmer.stem(word) for word in tokens]  # Stem tokens\n",
        "    # Alternatively: tokens = [lemmatizer.lemmatize(word) for word in tokens]\n",
        "    return ' '.join(tokens)\n",
        "\n",
        "# Apply preprocessing\n",
        "combined_df['clean_text'] = combined_df['text'].apply(preprocess_text)  # Replace 'text_column' with your actual column name\n",
        "\n",
        "# TF-IDF Vectorization\n",
        "vectorizer = TfidfVectorizer()\n",
        "X = vectorizer.fit_transform(combined_df['clean_text'])\n",
        "\n",
        "print(\"Shape of the TF-IDF matrix:\", X.shape)\n",
        "\n",
        "# If necessary, reduce dataset size and reapply preprocessing and vectorization\n",
        "sampled_df = combined_df.sample(n=1000, random_state=1)\n",
        "sampled_df['clean_text'] = sampled_df['subject'].apply(preprocess_text)  # Replace 'text_column'\n",
        "X_sampled = vectorizer.fit_transform(sampled_df['clean_text'])\n",
        "\n"
      ],
      "metadata": {
        "colab": {
          "base_uri": "https://localhost:8080/",
          "height": 1000
        },
        "id": "ZH6INLUYohvw",
        "outputId": "f4b96d7b-750e-4842-eb1a-3067e5722b40"
      },
      "execution_count": 9,
      "outputs": [
        {
          "output_type": "stream",
          "name": "stdout",
          "text": [
            "Shape of the dataset: (44898, 5)\n",
            "First few rows:\n",
            "                                               title  \\\n",
            "0   Donald Trump Sends Out Embarrassing New Year’...   \n",
            "1   Drunk Bragging Trump Staffer Started Russian ...   \n",
            "2   Sheriff David Clarke Becomes An Internet Joke...   \n",
            "3   Trump Is So Obsessed He Even Has Obama’s Name...   \n",
            "4   Pope Francis Just Called Out Donald Trump Dur...   \n",
            "\n",
            "                                                text subject  \\\n",
            "0  Donald Trump just couldn t wish all Americans ...    News   \n",
            "1  House Intelligence Committee Chairman Devin Nu...    News   \n",
            "2  On Friday, it was revealed that former Milwauk...    News   \n",
            "3  On Christmas day, Donald Trump announced that ...    News   \n",
            "4  Pope Francis used his annual Christmas Day mes...    News   \n",
            "\n",
            "                date label  \n",
            "0  December 31, 2017  fake  \n",
            "1  December 31, 2017  fake  \n",
            "2  December 30, 2017  fake  \n",
            "3  December 29, 2017  fake  \n",
            "4  December 25, 2017  fake  \n",
            "Last few rows:\n",
            "                                                   title  \\\n",
            "44893  'Fully committed' NATO backs new U.S. approach...   \n",
            "44894  LexisNexis withdrew two products from Chinese ...   \n",
            "44895  Minsk cultural hub becomes haven from authorities   \n",
            "44896  Vatican upbeat on possibility of Pope Francis ...   \n",
            "44897  Indonesia to buy $1.14 billion worth of Russia...   \n",
            "\n",
            "                                                    text    subject  \\\n",
            "44893  BRUSSELS (Reuters) - NATO allies on Tuesday we...  worldnews   \n",
            "44894  LONDON (Reuters) - LexisNexis, a provider of l...  worldnews   \n",
            "44895  MINSK (Reuters) - In the shadow of disused Sov...  worldnews   \n",
            "44896  MOSCOW (Reuters) - Vatican Secretary of State ...  worldnews   \n",
            "44897  JAKARTA (Reuters) - Indonesia will buy 11 Sukh...  worldnews   \n",
            "\n",
            "                   date label  \n",
            "44893  August 22, 2017   true  \n",
            "44894  August 22, 2017   true  \n",
            "44895  August 22, 2017   true  \n",
            "44896  August 22, 2017   true  \n",
            "44897  August 22, 2017   true  \n",
            "Value counts for labels:\n",
            "label\n",
            "fake    23481\n",
            "true    21417\n",
            "Name: count, dtype: int64\n"
          ]
        },
        {
          "output_type": "display_data",
          "data": {
            "text/plain": [
              "<Figure size 640x480 with 1 Axes>"
            ],
            "image/png": "[encoded data removed]"
          },
          "metadata": {}
        },
        {
          "output_type": "stream",
          "name": "stderr",
          "text": [
            "[nltk_data] Downloading package punkt to /root/nltk_data...\n",
            "[nltk_data]   Package punkt is already up-to-date!\n",
            "[nltk_data] Downloading package stopwords to /root/nltk_data...\n",
            "[nltk_data]   Package stopwords is already up-to-date!\n",
            "[nltk_data] Downloading package wordnet to /root/nltk_data...\n",
            "[nltk_data]   Package wordnet is already up-to-date!\n"
          ]
        },
        {
          "output_type": "stream",
          "name": "stdout",
          "text": [
            "Shape of the TF-IDF matrix: (44898, 182834)\n"
          ]
        }
      ]
    },
    {
      "cell_type": "code",
      "source": [
        "print(combined_df.columns)"
      ],
      "metadata": {
        "colab": {
          "base_uri": "https://localhost:8080/"
        },
        "id": "mBJsMOwGwFGw",
        "outputId": "0dc4b83d-ef11-4971-ce0a-dd7703dfd807"
      },
      "execution_count": 7,
      "outputs": [
        {
          "output_type": "stream",
          "name": "stdout",
          "text": [
            "Index(['title', 'text', 'subject', 'date', 'label'], dtype='object')\n"
          ]
        }
      ]
    }
  ]
}